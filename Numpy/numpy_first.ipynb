{
 "cells": [
  {
   "cell_type": "markdown",
   "id": "6022f11a-6f46-44ab-9130-ae487756ffaf",
   "metadata": {},
   "source": [
    "#***welcome to numpy tutorial***"
   ]
  },
  {
   "cell_type": "code",
   "execution_count": 1,
   "id": "d0f1a37b-8948-44f8-a61e-dc867d7611b7",
   "metadata": {},
   "outputs": [],
   "source": [
    "import numpy as np"
   ]
  },
  {
   "cell_type": "code",
   "execution_count": 2,
   "id": "a0ff3fcb-dc69-467a-b20b-6a440d9be16c",
   "metadata": {},
   "outputs": [],
   "source": [
    "myarr=np.array([[3,4,6,7,9],[4,6,45,34,8]],np.int32)"
   ]
  },
  {
   "cell_type": "code",
   "execution_count": 14,
   "id": "cc858897-955f-4c5a-854d-bc5116d042af",
   "metadata": {},
   "outputs": [
    {
     "data": {
      "text/plain": [
       "np.int32(4)"
      ]
     },
     "execution_count": 14,
     "metadata": {},
     "output_type": "execute_result"
    }
   ],
   "source": [
    "myarr[0,0]"
   ]
  },
  {
   "cell_type": "code",
   "execution_count": 18,
   "id": "d4c56b4c-3510-4c3d-9dd6-e951fc6fc2d5",
   "metadata": {},
   "outputs": [
    {
     "data": {
      "text/plain": [
       "(1, 5)"
      ]
     },
     "execution_count": 18,
     "metadata": {},
     "output_type": "execute_result"
    }
   ],
   "source": [
    "myarr.shape"
   ]
  },
  {
   "cell_type": "code",
   "execution_count": 5,
   "id": "8365359e-1e10-4a16-9f89-5e94786b9152",
   "metadata": {},
   "outputs": [
    {
     "data": {
      "text/plain": [
       "dtype('int32')"
      ]
     },
     "execution_count": 5,
     "metadata": {},
     "output_type": "execute_result"
    }
   ],
   "source": [
    "myarr.dtype"
   ]
  },
  {
   "cell_type": "code",
   "execution_count": 6,
   "id": "d3e4e4c1-1842-4ac3-931d-282655e32c2f",
   "metadata": {},
   "outputs": [],
   "source": [
    "yourarr=np.array([2,34,5,6])"
   ]
  },
  {
   "cell_type": "code",
   "execution_count": 7,
   "id": "9ba72bd8-4fe1-4578-ace1-f1ff55c85226",
   "metadata": {},
   "outputs": [
    {
     "data": {
      "text/plain": [
       "dtype('int64')"
      ]
     },
     "execution_count": 7,
     "metadata": {},
     "output_type": "execute_result"
    }
   ],
   "source": [
    "yourarr.dtype"
   ]
  },
  {
   "cell_type": "code",
   "execution_count": null,
   "id": "43e4e6af-7930-4bff-b561-03f0a2f5a146",
   "metadata": {},
   "outputs": [],
   "source": []
  }
 ],
 "metadata": {
  "kernelspec": {
   "display_name": "Python 3 (ipykernel)",
   "language": "python",
   "name": "python3"
  },
  "language_info": {
   "codemirror_mode": {
    "name": "ipython",
    "version": 3
   },
   "file_extension": ".py",
   "mimetype": "text/x-python",
   "name": "python",
   "nbconvert_exporter": "python",
   "pygments_lexer": "ipython3",
   "version": "3.12.2"
  }
 },
 "nbformat": 4,
 "nbformat_minor": 5
}
